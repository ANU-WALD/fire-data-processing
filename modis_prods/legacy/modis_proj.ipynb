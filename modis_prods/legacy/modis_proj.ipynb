{
 "cells": [
  {
   "cell_type": "code",
   "execution_count": 2,
   "metadata": {
    "collapsed": false
   },
   "outputs": [
    {
     "name": "stdout",
     "output_type": "stream",
     "text": [
      "(8708, 6)\n"
     ]
    }
   ],
   "source": [
    "import numpy as np\n",
    "\n",
    "lut = np.load(\"./LUT.npy\")\n",
    "lut = lut[:, [0,1,3,5,6,7]]\n",
    "veg_im = np.random.random(lut.shape)\n",
    "print veg_im.shape"
   ]
  },
  {
   "cell_type": "code",
   "execution_count": 3,
   "metadata": {
    "collapsed": false
   },
   "outputs": [],
   "source": [
    "\n",
    "def lut_squarer(x):\n",
    "    return (x[0]**2 + x[1]**2 + x[2]**2 + x[3]**2 + x[4]**2 + x[5]**2)**0.5\n",
    "\n",
    "lut_sq = np.apply_along_axis(lut_squarer, 1, lut)"
   ]
  },
  {
   "cell_type": "code",
   "execution_count": 29,
   "metadata": {
    "collapsed": false
   },
   "outputs": [
    {
     "name": "stdout",
     "output_type": "stream",
     "text": [
      "(8708,)\n",
      "(8708,)\n",
      "131.527203687\n"
     ]
    }
   ],
   "source": [
    "def get_sa2(table, sq_table, image):\n",
    "    sq_data = np.sum(np.multiply(image, image))**.5\n",
    "    \n",
    "    #sa = np.zeros(table.shape[0])\n",
    "\n",
    "    sq_sum = np.sum(np.multiply(table, image), axis=1)\n",
    "\n",
    "    return np.arccos(sq_sum/(sq_data*sq_table))\n",
    "\n",
    "\n",
    "#%timeit get_sa2(lut, lut_sq, veg_im)\n",
    "\n",
    "print np.sum(np.multiply(lut, veg_im), axis=1).shape\n",
    "print np.apply_along_axis(lut_squarer, 1, lut).shape\n",
    "print np.sum(np.multiply(veg_im, veg_im))**.5\n",
    "\n",
    "#print get_sa2(lut, lut_sq, veg_im)"
   ]
  },
  {
   "cell_type": "code",
   "execution_count": 52,
   "metadata": {
    "collapsed": false
   },
   "outputs": [],
   "source": [
    "lut = np.random.random((1000, 6))\n",
    "img = np.random.random((6, ))\n",
    "\n",
    "img_sq = np.einsum('i,i->',img, img)**.5\n",
    "lut_sq = np.sqrt(np.einsum('ij,ij->i',lut, lut))\n",
    "sum_sq = np.einsum('ij,j->i', lut, img)\n",
    "\n",
    "sa = i   "
   ]
  },
  {
   "cell_type": "code",
   "execution_count": 118,
   "metadata": {
    "collapsed": false
   },
   "outputs": [
    {
     "name": "stdout",
     "output_type": "stream",
     "text": [
      "(13343406.236, -3335851.5589999999)\n",
      "(10.0, 0.0)\n"
     ]
    }
   ],
   "source": [
    "# Test affine\n",
    "\n",
    "import numpy as np\n",
    "\n",
    "def get_affine_mat(gdal_geot):\n",
    "    affine_str = \"{}, 0.00, {}; 0.0, {}, {}; 0.00, 0.00, 1.00\".format(gdal_geot[1], gdal_geot[0], \n",
    "                                                                  gdal_geot[5], gdal_geot[3])\n",
    "\n",
    "    return np.matrix(affine_str)\n",
    "\n",
    "\n",
    "def transform_mat(geot, i, j):\n",
    "    \n",
    "    affine = get_affine_mat(geot)\n",
    "    \n",
    "    point = np.matrix('{}, {}, 1'.format(i, j))\n",
    "    \n",
    "    return tuple((affine * point.T).A1[:2])\n",
    "\n",
    "\n",
    "def get_affine(geot):\n",
    "    \n",
    "    return np.array([geot[1], .0, geot[0], .0, geot[5], geot[3], .0, .0, 1.]).reshape((3,3))\n",
    "    \n",
    "\n",
    "\n",
    "def transform(geot, i, j):\n",
    "    \n",
    "    return tuple(np.dot(get_affine(geot), np.array([i, j, 1]))[:2])\n",
    "\n",
    "\n",
    "def transform_inv(geot, x, y):\n",
    "    \n",
    "    return tuple(np.dot(np.linalg.inv(get_affine(geot)), np.array([x, y, 1]))[:2])\n",
    "\n",
    "\n",
    "gdal_geot = (13343406.236, 463.3127165279165, 0.0, -3335851.559, 0.0, -463.3127165279167)\n",
    "\n",
    "\n",
    "print transform_mat(gdal_geot, 0, 0)\n",
    "print transform_inv(gdal_geot, *transform(gdal_geot, 10, 0))\n"
   ]
  },
  {
   "cell_type": "code",
   "execution_count": 26,
   "metadata": {
    "collapsed": false
   },
   "outputs": [
    {
     "name": "stdout",
     "output_type": "stream",
     "text": [
      "10000 loops, best of 3: 182 µs per loop\n",
      "[ 0.49827142  0.43104235  0.69107065 ...,  0.27686534  0.47638186\n",
      "  0.33244603]\n",
      "[ 0.13788396  0.13502469  0.12898844 ...,  0.04602438  0.0497456\n",
      "  0.06209931]\n",
      "[ nan  nan  nan ...,  nan  nan  nan]\n"
     ]
    },
    {
     "name": "stderr",
     "output_type": "stream",
     "text": [
      "/Users/pablo/anaconda/lib/python2.7/site-packages/ipykernel/__main__.py:3: RuntimeWarning: invalid value encountered in arccos\n",
      "  app.launch_new_instance()\n"
     ]
    }
   ],
   "source": [
    "def get_sa3(table, sq_table, image):\n",
    "    \n",
    "    return np.arccos(np.einsum('ij,ij->i',table,image)/(np.einsum('ij,ij->i',table,table)*sq_table))\n",
    "\n",
    "\n",
    "%timeit get_sa3(lut, lut_sq, veg_im)\n",
    "print np.einsum('ij,ij->i',lut, veg_im)\n",
    "print np.einsum('ij,ij->i',lut, lut)*lut_sq\n",
    "print get_sa3(lut, lut_sq, veg_im)"
   ]
  },
  {
   "cell_type": "code",
   "execution_count": 15,
   "metadata": {
    "collapsed": false
   },
   "outputs": [
    {
     "name": "stdout",
     "output_type": "stream",
     "text": [
      "The slowest run took 6.64 times longer than the fastest. This could mean that an intermediate result is being cached.\n",
      "10000 loops, best of 3: 75.9 µs per loop\n"
     ]
    }
   ],
   "source": [
    "%timeit np.sum(np.multiply(lut, lut), axis=1)**.5"
   ]
  },
  {
   "cell_type": "code",
   "execution_count": 16,
   "metadata": {
    "collapsed": false
   },
   "outputs": [
    {
     "name": "stdout",
     "output_type": "stream",
     "text": [
      "The slowest run took 17.91 times longer than the fastest. This could mean that an intermediate result is being cached.\n",
      "10000 loops, best of 3: 59.5 µs per loop\n"
     ]
    }
   ],
   "source": [
    "%timeit np.sqrt(np.einsum('ij,ij->i',lut,lut))"
   ]
  },
  {
   "cell_type": "code",
   "execution_count": 20,
   "metadata": {
    "collapsed": false
   },
   "outputs": [
    {
     "name": "stdout",
     "output_type": "stream",
     "text": [
      "10 loops, best of 3: 23.6 ms per loop\n"
     ]
    }
   ],
   "source": [
    "lut = np.load(\"./LUT.npy\")\n",
    "lut = lut[:, [0,1,3,5,6,7]]\n",
    "\n",
    "from numba import jit\n",
    "\n",
    "@jit\n",
    "def my_func(x):\n",
    "    \"\"\"Average first and last element of a 1-D array\"\"\"\n",
    "    return (x[0]**2 + x[1]**2 + x[2]**2 + x[3]**2 + x[4]**2 + x[5]**2)**0.5\n",
    "\n",
    "%timeit np.apply_along_axis(my_func, 1, lut)"
   ]
  },
  {
   "cell_type": "code",
   "execution_count": null,
   "metadata": {
    "collapsed": false
   },
   "outputs": [],
   "source": [
    "import os.path\n",
    "\n",
    "hs = [27, 28, 29, 30, 31, 32]\n",
    "vs = [10, 11, 12, 13]\n",
    "\n",
    "canvas = np.zeros((2400*len(vs), 2400*len(hs)), dtype=np.float32)\n",
    "\n",
    "\n",
    "for i, h in enumerate(hs):\n",
    "    for j, v in enumerate(vs):\n",
    "        if os.path.isfile(\"/Users/pablo/Desktop/marta/MCD43A4.A2010049.h{}v{}.005.npy\".format(h, v)):\n",
    "            tile = np.load(\"/Users/pablo/Desktop/marta/MCD43A4.A2010049.h{}v{}.005.npy\".format(h, v))\n",
    "            canvas[j*2400:(j+1)*2400, i*2400:(i+1)*2400] = tile\n",
    " \n",
    "print(canvas.shape)\n",
    "plt.imshow(canvas)"
   ]
  },
  {
   "cell_type": "code",
   "execution_count": null,
   "metadata": {
    "collapsed": false
   },
   "outputs": [],
   "source": [
    "from pyproj import Proj\n",
    "from osgeo import gdal as _\n",
    "import rasterio.warp\n",
    "\n",
    "#h31v10 2400 2400\n",
    "a_geot = (14455356.755667, 463.3127165275005, 0.0, -1111950.519667, 0.0, -463.3127165274999)\n",
    "\n",
    "new_geot = (14455356.755667-(4*2400*(463.3127165275005)), 463.3127165275005, 0.0,\n",
    "           -1111950.519667, 0.0, -463.3127165274999)\n",
    "\n",
    "dest_canvas = np.zeros((2400, 2400), dtype=np.float32)\n",
    "wgs_geot = (130.0, 0.0025, 0.0, -12., 0.0, -0.0025)\n",
    "\n",
    "modis_proj = Proj('+proj=sinu +R=6371007.181 +nadgrids=@null +wktext')\n",
    "wgs84_proj = Proj(**{'init': \"epsg:4326\"})\n",
    "\n",
    "rasterio.warp.reproject(a, dest_canvas, src_transform=a_geot, src_crs=modis_proj,\n",
    "                                dst_transform=wgs_geot, dst_crs=wgs84_proj, resampling=rasterio.warp.RESAMPLING.nearest)\n",
    "\n",
    "plt.imshow(dest_canvas)                 "
   ]
  },
  {
   "cell_type": "code",
   "execution_count": null,
   "metadata": {
    "collapsed": false
   },
   "outputs": [],
   "source": [
    "modis = osr.SpatialReference()\n",
    "modis.ImportFromProj4(\"+proj=sinu +R=6371007.181 +nadgrids=@null +wktext\")\n",
    "wgs84 = osr.SpatialReference()\n",
    "wgs84.ImportFromEPSG(4326)\n",
    "\n",
    "tx = osr.CoordinateTransformation(modis, wgs84)\n",
    "mod_geot = (14455356.755667, 463.3127165275005, 0.0, -1111950.519667, 0.0, -463.3127165274999)\n",
    "(ulx, uly, ulz) = tx.TransformPoint(mod_geot[0], mod_geot[3])\n",
    "print(ulx, uly, ulz)\n",
    "(ulx, uly, ulz) = tx.TransformPoint(mod_geot[0] + mod_geot[1]*2400, mod_geot[3] + mod_geot[5]*2400)\n",
    "print(ulx, uly, ulz)"
   ]
  },
  {
   "cell_type": "code",
   "execution_count": null,
   "metadata": {
    "collapsed": false
   },
   "outputs": [],
   "source": [
    "from osgeo import gdal, osr\n",
    "\n",
    "plt.figure(figsize=(28,56))\n",
    "plt.axis('off')\n",
    "\n",
    "mem_drv = gdal.GetDriverByName('MEM')\n",
    "\n",
    "# Create GDALDataset\n",
    "src = mem_drv.Create('', 14400, 9600, 1, gdal.GDT_Float32)\n",
    "\n",
    "# Proj data\n",
    "#src.SetGeoTransform((14455356.755667, 463.3127165275005, 0.0, -1111950.519667, 0.0, -463.3127165274999))\n",
    "src.SetGeoTransform((14455356.755667-(4*2400*(463.3127165275005)), 463.3127165275005, 0.0, -1111950.519667, 0.0, -463.3127165274999))\n",
    "\n",
    "modis = osr.SpatialReference()\n",
    "modis.ImportFromProj4(\"+proj=sinu +R=6371007.181 +nadgrids=@null +wktext\")\n",
    "src.SetProjection(modis.ExportToWkt())\n",
    "\n",
    "band = src.GetRasterBand(1)\n",
    "band.WriteArray(canvas)\n",
    "\n",
    "print(src.GetGeoTransform())\n",
    "print(src.GetProjection())\n",
    "\n",
    "plt.imshow(src.ReadAsArray(), interpolation='none')\n",
    "plt.savefig('au_veg_sinus.png', bbox_inches='tight')"
   ]
  },
  {
   "cell_type": "code",
   "execution_count": null,
   "metadata": {
    "collapsed": false
   },
   "outputs": [],
   "source": [
    "# Create GDALDataset\n",
    "dest = mem_drv.Create('', 8800, 7000, 1, gdal.GDT_Float32)\n",
    "\n",
    "# Proj data\n",
    "dest.SetGeoTransform((111.0, 0.005, 0.0, -10., 0.0, -0.005))\n",
    "\n",
    "wgs84 = osr.SpatialReference()\n",
    "wgs84.ImportFromEPSG(4326)\n",
    "dest.SetProjection(wgs84.ExportToWkt())\n",
    "\n",
    "band = dest.GetRasterBand(1)\n",
    "print(dest.RasterXSize, dest.RasterYSize)\n",
    "band.WriteArray(np.zeros((7000, 8800), dtype=np.float32))\n",
    "\n",
    "print(dest.GetGeoTransform())\n",
    "print(dest.GetProjection())\n",
    "#plt.imshow(dest.ReadAsArray())"
   ]
  },
  {
   "cell_type": "code",
   "execution_count": null,
   "metadata": {
    "collapsed": false
   },
   "outputs": [],
   "source": [
    "%matplotlib inline\n",
    "\n",
    "import matplotlib.pyplot as plt\n",
    "plt.figure(figsize=(30,44))\n",
    "plt.axis('off')\n",
    "\n",
    "GRA_type = gdal.GRA_NearestNeighbour\n",
    "\n",
    "res = gdal.ReprojectImage(src, dest, src.GetProjection(), dest.GetProjection(), GRA_type)\n",
    "\n",
    "plt.imshow(dest.ReadAsArray(), interpolation='none')\n",
    "plt.savefig('au_veg_4326.png', bbox_inches='tight')"
   ]
  },
  {
   "cell_type": "code",
   "execution_count": null,
   "metadata": {
    "collapsed": false
   },
   "outputs": [],
   "source": [
    "import pandas as pd\n",
    "\n",
    "df = pd.read_csv(\"./LUT.txt\", sep='\\t', header=None, index_col=0)\n",
    "\n",
    "df#[[1,2,3]]"
   ]
  },
  {
   "cell_type": "code",
   "execution_count": null,
   "metadata": {
    "collapsed": true
   },
   "outputs": [],
   "source": []
  }
 ],
 "metadata": {
  "kernelspec": {
   "display_name": "Python 2",
   "language": "python",
   "name": "python2"
  },
  "language_info": {
   "codemirror_mode": {
    "name": "ipython",
    "version": 2
   },
   "file_extension": ".py",
   "mimetype": "text/x-python",
   "name": "python",
   "nbconvert_exporter": "python",
   "pygments_lexer": "ipython2",
   "version": "2.7.11"
  }
 },
 "nbformat": 4,
 "nbformat_minor": 0
}
