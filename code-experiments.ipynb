{
 "cells": [
  {
   "cell_type": "code",
   "execution_count": null,
   "metadata": {
    "collapsed": true
   },
   "outputs": [],
   "source": [
    "import functools\n",
    "\n",
    "import numpy as np\n",
    "import pandas as pd\n",
    "import xarray as xr\n",
    "\n",
    "import matplotlib.pyplot as plt\n",
    "\n",
    "try:\n",
    "    from numba import jit\n",
    "    print('Using Numba')\n",
    "except ImportError:\n",
    "    print('Numba unavailable')\n",
    "    def jit(func):\n",
    "        return func\n",
    "\n",
    "%matplotlib inline"
   ]
  },
  {
   "cell_type": "code",
   "execution_count": null,
   "metadata": {
    "collapsed": true
   },
   "outputs": [],
   "source": [
    "bands_to_use = ['red_630_690', 'nir1_780_900', 'green_530_610',\n",
    "                'swir1_1550_1750', 'swir2_2090_2350', 'ndii']"
   ]
  },
  {
   "cell_type": "code",
   "execution_count": null,
   "metadata": {},
   "outputs": [],
   "source": [
    "in_file = '../../data/MCD43A4.A2017.h31v11.006.nc'\n",
    "modis_band_map = {\n",
    "    'band1': 'red_630_690',\n",
    "    'band2': 'nir1_780_900',\n",
    "    'band3': 'blue_450_520',\n",
    "    'band4': 'green_530_610',\n",
    "    'band5': 'nir2_1230_1250',\n",
    "    'band6': 'swir1_1550_1750',\n",
    "    'band7': 'swir2_2090_2350',\n",
    "}\n",
    "# From /g/data1/xc0/project/FMC_Australia/MCD43A4-collection-six/\n",
    "ds = xr.open_dataset(in_file, chunks=dict(time=1, y=800, x=800))\n",
    "ds.rename(modis_band_map, inplace=True)\n",
    "\n",
    "ds['ndvi_ok_mask'] = 0.15 < (ds.nir1_780_900 - ds.red_630_690) / (ds.nir1_780_900 + ds.red_630_690)\n",
    "# Note: I think this might have been calculated with nir1 and green in the original dataset!\n",
    "ds['ndii'] = (ds.nir1_780_900 - ds.swir1_1550_1750) / (ds.nir1_780_900 + ds.swir1_1550_1750)\n",
    "\n",
    "ds"
   ]
  },
  {
   "cell_type": "code",
   "execution_count": null,
   "metadata": {},
   "outputs": [],
   "source": [
    "lc = xr.open_dataarray('../../data/landcover.2013.h31v11.nc')\n",
    "\n",
    "# TODO: assert correctness w.r.t. array attribute names\n",
    "shrub_mask = sum((lc == i) for i in (6, 7)).astype(bool)\n",
    "grass_mask = sum((lc == i) for i in (10, 12)).astype(bool)\n",
    "forest_mask = sum((lc == i) for i in (1, 2, 3, 4, 5, 8, 9)).astype(bool)\n",
    "\n",
    "(forest_mask + 2 * shrub_mask + 3 * grass_mask).plot.imshow(yincrease=False)"
   ]
  },
  {
   "cell_type": "code",
   "execution_count": null,
   "metadata": {},
   "outputs": [],
   "source": [
    "merged_lookup = pd.read_csv('lookup_tables/merged_lookup.csv', index_col='ID')\n",
    "merged_lookup['ndii'] = ((merged_lookup.nir1_780_900 - merged_lookup.swir1_1550_1750) /\n",
    "                         (merged_lookup.nir1_780_900 + merged_lookup.swir1_1550_1750))\n",
    "merged_lookup.head()"
   ]
  },
  {
   "cell_type": "code",
   "execution_count": null,
   "metadata": {},
   "outputs": [],
   "source": [
    "@functools.lru_cache()\n",
    "def get_dataset(size=2400, start=0):\n",
    "    return ds.isel(y=slice(start, start + size), x=slice(start, start + size)\n",
    "                   ).mean(dim='time').load()"
   ]
  },
  {
   "cell_type": "code",
   "execution_count": null,
   "metadata": {},
   "outputs": [],
   "source": [
    "@functools.lru_cache()\n",
    "def get_functor(veg_type, n=40):\n",
    "    \"\"\"Returns a function to get the mean and stdev of LFMC for the top n values.\n",
    "    \n",
    "    Note that the function object is jitted with Numba if possible, and\n",
    "    therefore cached to maximise the benefit of jitting and avoid loading\n",
    "    the vmat and smat tables more than once.\n",
    "    \"\"\"\n",
    "    table = merged_lookup.where(merged_lookup.VEGTYPE == veg_type)\n",
    "    vmat = table[bands_to_use].values\n",
    "    vsmat = np.sqrt((vmat ** 2).sum(axis=1))\n",
    "    \n",
    "    @jit\n",
    "    def get_top_n(mb, top_n=n, vmat=vmat, vsmat=vsmat, fmc=table.FMC.values):\n",
    "        spectral_angle = np.arccos(\n",
    "            np.einsum('ij,j->i', vmat, mb) /\n",
    "            (np.sqrt(np.einsum('i,i->', mb, mb)) * vsmat)\n",
    "        )\n",
    "        top_values = fmc[np.argpartition(spectral_angle, top_n)[:top_n]]\n",
    "        return top_values.mean(axis=-1), top_values.std(axis=-1)\n",
    "    \n",
    "    return get_top_n\n",
    "\n",
    "\n",
    "def get_fmc(dataset):\n",
    "    \"\"\"Get the mean and stdev of LFMC for the given Xarray dataset (one time-step).\"\"\"\n",
    "    bands = xr.concat([dataset[b] for b in bands_to_use], dim='band')\n",
    "    ok = np.logical_and(dataset.ndvi_ok_mask, bands.notnull().all(dim='band'))\n",
    "    \n",
    "    out = np.full((2,) + ok.shape, np.nan, dtype='float32')\n",
    "    \n",
    "    for kind, mask in [('shrub', shrub_mask), ('forest', forest_mask), ('grass', grass_mask)]:\n",
    "        cond = np.logical_and(ok, mask[:bands.y.size, :bands.x.size]).values\n",
    "        vals = bands.values[:, cond]\n",
    "        if vals.size:\n",
    "            # Only calculate for and assign to the unmasked values\n",
    "            out[:,cond] = np.apply_along_axis(get_functor(kind), 0, vals)\n",
    "    \n",
    "    data_vars = {\n",
    "        'LFMC_mean': (tuple(dataset.dims), out[0]),\n",
    "        'LFMC_stdev': (tuple(dataset.dims), out[1])\n",
    "    }\n",
    "    return xr.Dataset(data_vars=data_vars, coords=dataset.coords)"
   ]
  },
  {
   "cell_type": "code",
   "execution_count": null,
   "metadata": {},
   "outputs": [],
   "source": [
    "_d = get_dataset(400)\n",
    "%time out = get_fmc(_d)"
   ]
  },
  {
   "cell_type": "code",
   "execution_count": null,
   "metadata": {},
   "outputs": [],
   "source": [
    "out.LFMC_mean.plot.imshow(robust=True, yincrease=False)"
   ]
  },
  {
   "cell_type": "code",
   "execution_count": null,
   "metadata": {},
   "outputs": [],
   "source": [
    "out.LFMC_stdev.plot.imshow(robust=True, yincrease=False)"
   ]
  },
  {
   "cell_type": "code",
   "execution_count": null,
   "metadata": {},
   "outputs": [],
   "source": [
    "(out.LFMC_stdev / out.LFMC_mean).plot.imshow(vmin=0, robust=True, yincrease=False)"
   ]
  },
  {
   "cell_type": "code",
   "execution_count": null,
   "metadata": {
    "collapsed": true
   },
   "outputs": [],
   "source": []
  }
 ],
 "metadata": {
  "kernelspec": {
   "display_name": "Python 3",
   "language": "python",
   "name": "python3"
  },
  "language_info": {
   "codemirror_mode": {
    "name": "ipython",
    "version": 3
   },
   "file_extension": ".py",
   "mimetype": "text/x-python",
   "name": "python",
   "nbconvert_exporter": "python",
   "pygments_lexer": "ipython3",
   "version": "3.6.1"
  }
 },
 "nbformat": 4,
 "nbformat_minor": 2
}
