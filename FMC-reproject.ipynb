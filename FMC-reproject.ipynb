{
 "cells": [
  {
   "cell_type": "code",
   "execution_count": null,
   "metadata": {
    "collapsed": true
   },
   "outputs": [],
   "source": [
    "import math\n",
    "import collections\n",
    "\n",
    "import numpy as np\n",
    "import pandas as pd\n",
    "import xarray as xr\n",
    "import matplotlib.pyplot as plt\n",
    "\n",
    "from osgeo import osr\n",
    "import cartopy.crs as ccrs\n",
    "\n",
    "%matplotlib inline"
   ]
  },
  {
   "cell_type": "code",
   "execution_count": null,
   "metadata": {},
   "outputs": [],
   "source": [
    "fname = 'C:/UserData/hatfielz/data/LVMC_2017_h31v10.nc'\n",
    "ds = xr.open_dataset(fname, chunks=dict(time=1))\n",
    "ds.lvmc_mean.isel(time=-1).plot.imshow(robust=True)\n",
    "ds"
   ]
  },
  {
   "cell_type": "code",
   "execution_count": null,
   "metadata": {
    "collapsed": true
   },
   "outputs": [],
   "source": [
    "AffineGeoTransform = collections.namedtuple(\n",
    "    'GeoTransform', ['origin_x', 'pixel_width', 'x_rot',\n",
    "                     'origin_y', 'y_rot', 'pixel_height'])\n",
    "RasterShape = collections.namedtuple('RasterShape', ['time', 'y', 'x'])\n",
    "LonLat = collections.namedtuple('LonLat', ['lon', 'lat'])  # X,Y order"
   ]
  },
  {
   "cell_type": "code",
   "execution_count": null,
   "metadata": {
    "collapsed": true
   },
   "outputs": [],
   "source": [
    "def reproj_bounding_box(from_sr, to_sr, old_geot, arr_shape, out_res_degrees=0.005):\n",
    "    \"\"\"Reproject the bounding box as upperleft, lowerright coordinate pairs.\n",
    "    It turns out this is substantially harder than it sounds.\n",
    "    - All corners must be calculated, as reprojection will skew the box.\n",
    "      (fortunately convex edges stay within the box of corners...)\n",
    "    - Bounding boxes which cross the dateline need very careful handling.\n",
    "      Latitude is OK, but Longitude is tricky.\n",
    "    Returns (new_geot, new_shape) in the transformed coord system.\n",
    "    \"\"\"\n",
    "    transform = osr.CoordinateTransformation(from_sr, to_sr).TransformPoint\n",
    "    inv_transform = osr.CoordinateTransformation(to_sr, from_sr).TransformPoint\n",
    "\n",
    "    # make a list of corners, and transform them into lat/lon coordinates\n",
    "    ysize, xsize = arr_shape  # unintuitive order, but correct!\n",
    "    far_x = old_geot.origin_x + old_geot.pixel_width * xsize\n",
    "    far_y = old_geot.origin_y + old_geot.pixel_height * ysize\n",
    "    corners = [(old_geot.origin_x, old_geot.origin_y),\n",
    "               (old_geot.origin_x, far_y),\n",
    "               (far_x, old_geot.origin_y),\n",
    "               (far_x, far_y)]\n",
    "    llcorners = [LonLat(*transform(x, y)[:2]) for x, y in corners]\n",
    "\n",
    "    # Reprojecting modis tiles should give consistent latitudes, well within\n",
    "    # one degree given precision limits\n",
    "    lat_min, _lat_small, _lat_big, lat_max = sorted(c.lat for c in llcorners)\n",
    "    assert _lat_small - lat_min < 1 and lat_max - _lat_big < 1\n",
    "\n",
    "    # A 'good' coordinate has x-coord error less than 1Km (no dateline)\n",
    "    # and not near the prime meridian (reliable demihemisphere detection)\n",
    "    check = [inv_transform(lat, lon)[:2] for lat, lon in llcorners]\n",
    "    is_ok = [abs(x1 - x2) < 1000 and abs(ll.lon) > 1\n",
    "             for (x1, _), ll, (x2, _) in zip(corners, llcorners, check)]\n",
    "    good_coords = [coord for coord, ok in zip(llcorners, is_ok) if ok]\n",
    "    assert good_coords, \"Every data-containing tile has >= 1 corner with data\"\n",
    "\n",
    "    # Now clip the longitude bounding box to avoid crossing the dateline...\n",
    "    lon_bound = -180 if good_coords[0].lon < 0 else 180\n",
    "    lons = sorted(coord.lon if ok else lon_bound\n",
    "                                    for coord, ok in zip(llcorners, is_ok))\n",
    "    lon_min, _, _, lon_max = lons\n",
    "    # Expand so that grid is integer-aligned\n",
    "    lat_min -= lat_min % out_res_degrees\n",
    "    lon_min -= lon_min % out_res_degrees\n",
    "    lat_max += out_res_degrees - lat_max % out_res_degrees\n",
    "    lon_max += out_res_degrees - lon_max % out_res_degrees\n",
    "\n",
    "    return (AffineGeoTransform(lon_min, out_res_degrees, 0,\n",
    "                               lat_max, 0, -out_res_degrees),\n",
    "            # Remember, our array dimensions are ordered Y,X == Lat,Lon\n",
    "            (math.ceil((lat_max - lat_min) / out_res_degrees),\n",
    "             math.ceil((lon_max - lon_min) / out_res_degrees)))"
   ]
  },
  {
   "cell_type": "code",
   "execution_count": null,
   "metadata": {
    "collapsed": true
   },
   "outputs": [],
   "source": [
    "def project_array_to_latlon(array, geot, wkt_str):\n",
    "    \"\"\"Reproject a tile from Modis Sinusoidal to WGS84 Lat/Lon coordinates.\n",
    "    Metadata is handled by the calling function.\n",
    "    \"\"\"\n",
    "    from osgeo import gdal, gdal_array, osr\n",
    "    assert isinstance(geot, AffineGeoTransform)\n",
    "\n",
    "    def array_to_raster(array, geot, wkt):\n",
    "        ysize, xsize = array.shape  # unintuitive order, but correct!\n",
    "        dataset = gdal.GetDriverByName('MEM').Create(\n",
    "            '', xsize, ysize,\n",
    "            eType=gdal_array.NumericTypeCodeToGDALTypeCode(array.dtype))\n",
    "        dataset.SetGeoTransform(geot)\n",
    "        dataset.SetProjection(wkt)\n",
    "        dataset.GetRasterBand(1).WriteArray(array)\n",
    "        return dataset\n",
    "\n",
    "    input_data = array_to_raster(array, geot, wkt_str)\n",
    "\n",
    "    # Set up the reference systems and transformation\n",
    "    from_sr = osr.SpatialReference()\n",
    "    from_sr.ImportFromWkt(wkt_str)\n",
    "    to_sr = osr.SpatialReference()\n",
    "    to_sr.SetWellKnownGeogCS(\"WGS84\")\n",
    "\n",
    "    # Get new geotransform and create destination raster\n",
    "    ll_geot, new_shape = reproj_bounding_box(from_sr, to_sr, geot, array.shape)\n",
    "    dest_arr = np.empty(new_shape)\n",
    "    dest_arr[:] = np.nan\n",
    "    dest = array_to_raster(dest_arr, ll_geot, to_sr.ExportToWkt())\n",
    "\n",
    "    # Perform the projection/resampling\n",
    "    gdal.ReprojectImage(\n",
    "        input_data, dest,\n",
    "        from_sr.ExportToWkt(), to_sr.ExportToWkt(),\n",
    "        gdal.GRA_Bilinear)\n",
    "    return dest.GetRasterBand(1).ReadAsArray(), ll_geot"
   ]
  },
  {
   "cell_type": "code",
   "execution_count": null,
   "metadata": {
    "collapsed": true
   },
   "outputs": [],
   "source": [
    "def convert_xr_dataset(ds):\n",
    "    \"\"\"Convert a sinusoidal MODIS dataset to WGS84 lat/lon.\"\"\"\n",
    "    # TODO: handle actual dataset instead of one timestep of a single variable\n",
    "    geot = AffineGeoTransform(*[float(v) for v in ds.sinusoidal.GeoTransform.split()])\n",
    "    print(geot)\n",
    "    arr, new_geot = project_array_to_latlon(ds.lvmc_mean.isel(time=-1).values, geot, ds.sinusoidal.spatial_ref)\n",
    "    print(new_geot)\n",
    "    coords = {'latitude': np.arange(arr.shape[0]) * new_geot.pixel_height + new_geot.origin_y,\n",
    "              'longitude': np.arange(arr.shape[1]) * new_geot.pixel_width + new_geot.origin_x}\n",
    "    da = xr.DataArray(arr, coords=coords, dims=('latitude', 'longitude'), name='lvmc_mean', encoding=dict())\n",
    "    return da"
   ]
  },
  {
   "cell_type": "code",
   "execution_count": null,
   "metadata": {},
   "outputs": [],
   "source": [
    "out = convert_xr_dataset(ds)\n",
    "out.plot.imshow(robust=True)\n",
    "out"
   ]
  },
  {
   "cell_type": "code",
   "execution_count": null,
   "metadata": {},
   "outputs": [],
   "source": [
    "ax = plt.axes(projection=ccrs.PlateCarree())\n",
    "ax.coastlines()\n",
    "out.plot.imshow(transform=ccrs.PlateCarree(), ax=ax, robust=True)"
   ]
  },
  {
   "cell_type": "code",
   "execution_count": null,
   "metadata": {},
   "outputs": [],
   "source": [
    "ds2 = xr.open_dataset('http://dapds00.nci.org.au/thredds/dodsC/ub8/au/FMC/LVMC/LVMC_2017_h30v10.nc')\n",
    "out2 = convert_xr_dataset(ds2)"
   ]
  },
  {
   "cell_type": "code",
   "execution_count": null,
   "metadata": {},
   "outputs": [],
   "source": [
    "merged = xr.merge([out, out2])\n",
    "merged"
   ]
  },
  {
   "cell_type": "code",
   "execution_count": null,
   "metadata": {},
   "outputs": [],
   "source": [
    "ax = plt.axes(projection=ccrs.PlateCarree())\n",
    "ax.coastlines()\n",
    "merged.lvmc_mean.plot.imshow(transform=ccrs.PlateCarree(), ax=ax, robust=True)"
   ]
  },
  {
   "cell_type": "code",
   "execution_count": null,
   "metadata": {},
   "outputs": [],
   "source": [
    "ax = plt.axes(projection=ccrs.PlateCarree())\n",
    "ax.coastlines()\n",
    "out2.plot.imshow(transform=ccrs.PlateCarree(), ax=ax, robust=True)"
   ]
  },
  {
   "cell_type": "code",
   "execution_count": null,
   "metadata": {},
   "outputs": [],
   "source": [
    "merged = out.combine_first(out2)\n",
    "ax = plt.axes(projection=ccrs.PlateCarree())\n",
    "ax.coastlines()\n",
    "merged.plot.imshow(transform=ccrs.PlateCarree(), ax=ax, robust=True)\n",
    "merged"
   ]
  },
  {
   "cell_type": "code",
   "execution_count": null,
   "metadata": {},
   "outputs": [],
   "source": [
    "out.longitude % 0.005"
   ]
  },
  {
   "cell_type": "code",
   "execution_count": null,
   "metadata": {},
   "outputs": [],
   "source": [
    "out2.longitude % 0.005"
   ]
  },
  {
   "cell_type": "code",
   "execution_count": null,
   "metadata": {},
   "outputs": [],
   "source": [
    "out.latitude"
   ]
  },
  {
   "cell_type": "code",
   "execution_count": null,
   "metadata": {},
   "outputs": [],
   "source": [
    "# NOTE - must proceed west-to-east to get correct sinusoidal origin coord\n",
    "in_both = ds2.isel(time=slice(-2, None)).combine_first(ds.isel(time=slice(-2, None))).isel(time=slice(1, 2))\n",
    "in_both"
   ]
  },
  {
   "cell_type": "code",
   "execution_count": null,
   "metadata": {},
   "outputs": [],
   "source": [
    "merged = convert_xr_dataset(in_both)\n",
    "merged"
   ]
  },
  {
   "cell_type": "code",
   "execution_count": null,
   "metadata": {},
   "outputs": [],
   "source": [
    "ax = plt.axes(projection=ccrs.PlateCarree())\n",
    "ax.coastlines()\n",
    "merged.plot.imshow(transform=ccrs.PlateCarree(), ax=ax, robust=True)"
   ]
  },
  {
   "cell_type": "code",
   "execution_count": null,
   "metadata": {},
   "outputs": [],
   "source": [
    "in_both.lvmc_mean.plot.imshow(robust=True, col='time')"
   ]
  },
  {
   "cell_type": "code",
   "execution_count": null,
   "metadata": {
    "collapsed": true
   },
   "outputs": [],
   "source": []
  }
 ],
 "metadata": {
  "anaconda-cloud": {},
  "kernelspec": {
   "display_name": "Python 3",
   "language": "python",
   "name": "python3"
  },
  "language_info": {
   "codemirror_mode": {
    "name": "ipython",
    "version": 3
   },
   "file_extension": ".py",
   "mimetype": "text/x-python",
   "name": "python",
   "nbconvert_exporter": "python",
   "pygments_lexer": "ipython3",
   "version": "3.6.1"
  }
 },
 "nbformat": 4,
 "nbformat_minor": 1
}
